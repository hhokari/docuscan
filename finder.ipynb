{
 "cells": [
  {
   "cell_type": "markdown",
   "metadata": {},
   "source": [
    "This first cell does some necessary imports"
   ]
  },
  {
   "cell_type": "code",
   "execution_count": 34,
   "metadata": {},
   "outputs": [],
   "source": [
    "from selenium import webdriver\n",
    "from xvfbwrapper import Xvfb\n",
    "from selenium.webdriver.common.keys import Keys\n",
    "from selenium.webdriver.support.ui import WebDriverWait\n",
    "from selenium.webdriver.support import expected_conditions as cond\n",
    "from selenium.webdriver.common.by import By"
   ]
  },
  {
   "cell_type": "markdown",
   "metadata": {},
   "source": [
    "These next commands allow us to run headlessly (without an actual browser window opening)"
   ]
  },
  {
   "cell_type": "code",
   "execution_count": 5,
   "metadata": {},
   "outputs": [],
   "source": [
    "# display = Xvfb()\n",
    "# display.start()"
   ]
  },
  {
   "cell_type": "code",
   "execution_count": 35,
   "metadata": {},
   "outputs": [],
   "source": [
    "options = webdriver.ChromeOptions()\n",
    "options.add_argument('window-size=800x841')\n",
    "options.add_argument('headless')"
   ]
  },
  {
   "cell_type": "code",
   "execution_count": 36,
   "metadata": {},
   "outputs": [
    {
     "name": "stderr",
     "output_type": "stream",
     "text": [
      "/usr/local/lib/python3.7/site-packages/ipykernel_launcher.py:3: DeprecationWarning: use options instead of chrome_options\n",
      "  This is separate from the ipykernel package so we can avoid doing imports until\n"
     ]
    },
    {
     "name": "stdout",
     "output_type": "stream",
     "text": [
      "CLAUDETTE\n",
      "By using our Services, you are agreeing to these terms.\n",
      "We may suspend or stop providing our Services to you if you do not comply with our terms or policies or if we are investigating suspected misconduct.\n"
     ]
    }
   ],
   "source": [
    "# now Firefox will run in a virtual display. \n",
    "# you will not see the browser.\n",
    "driver = webdriver.Chrome(\"/Users/rishabhkrishnan/iCloud Drive (Archive)/Desktop/Berkeley/Freshman/CalHacks/unnamedhack/Mac/chromedriver\",chrome_options=options)\n",
    "driver.get('http://claudette.eui.eu/demo/#')\n",
    "textBox=driver.find_element_by_id(\"document_text\")\n",
    "textBox.clear()\n",
    "with open(\"sample_document.txt\",'r') as f:\n",
    "    for line in f:\n",
    "        line=line.strip()\n",
    "        arr=line.split(\"\\t\")\n",
    "        for elem in arr:\n",
    "            textBox.send_keys(elem)\n",
    "            textBox.send_keys(Keys.TAB)\n",
    "        textBox.send_keys(Keys.RETURN)\n",
    "driver.find_element_by_class_name(\"bluebutton\").click()\n",
    "wait=WebDriverWait(driver,500).until(cond.presence_of_element_located((By.CLASS_NAME,\"dots\")))\n",
    "print(driver.title)\n",
    "for phrase in driver.find_elements_by_xpath(\"//div[@name='results_div']/b\"):\n",
    "    print(phrase.text)\n",
    "#driver.quit()\n",
    "\n"
   ]
  },
  {
   "cell_type": "code",
   "execution_count": null,
   "metadata": {},
   "outputs": [],
   "source": []
  },
  {
   "cell_type": "code",
   "execution_count": null,
   "metadata": {},
   "outputs": [],
   "source": []
  },
  {
   "cell_type": "code",
   "execution_count": null,
   "metadata": {},
   "outputs": [],
   "source": []
  }
 ],
 "metadata": {
  "kernelspec": {
   "display_name": "Python 3",
   "language": "python",
   "name": "python3"
  },
  "language_info": {
   "codemirror_mode": {
    "name": "ipython",
    "version": 3
   },
   "file_extension": ".py",
   "mimetype": "text/x-python",
   "name": "python",
   "nbconvert_exporter": "python",
   "pygments_lexer": "ipython3",
   "version": "3.7.4"
  }
 },
 "nbformat": 4,
 "nbformat_minor": 2
}
